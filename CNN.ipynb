{
 "cells": [
  {
   "cell_type": "code",
   "execution_count": 15,
   "metadata": {},
   "outputs": [
    {
     "name": "stdout",
     "output_type": "stream",
     "text": [
      "Dataset MNIST\n",
      "    Number of datapoints: 60000\n",
      "    Root location: data\n",
      "    Split: Train\n",
      "    StandardTransform\n",
      "Transform: ToTensor()\n",
      "Dataset MNIST\n",
      "    Number of datapoints: 10000\n",
      "    Root location: data\n",
      "    Split: Test\n",
      "    StandardTransform\n",
      "Transform: ToTensor()\n"
     ]
    }
   ],
   "source": [
    "import torch #Pytorch\n",
    "from torchvision import datasets # Dataset Modules from torch\n",
    "import torchvision.transforms as transforms # Image Transforms\n",
    "from torch.utils.data.sampler import SubsetRandomSampler #Sampler\n",
    "import torch.nn as nn #Torch framework containing the NN layers\n",
    "import torch.nn.functional as F # This is where we will get our activation function from\n",
    "import numpy as np\n",
    "import pandas as pd\n",
    "import random \n",
    "import matplotlib.pyplot as plt\n",
    "\n",
    "# Before we can implement the CNN we need to deal with how we are going to load our training/testing dataset into the CNN. This is done through\n",
    "# DATA PIPELINES:\n",
    "\n",
    "#If we are loading EXISTING datasets from pytorch, such as MNIST, then we can just do:\n",
    "\n",
    "#1. Encoding the data into tensor so that it can be operated on by the NN:\n",
    "transform = transforms.ToTensor()\n",
    "\n",
    "#2. Splitting the data into training and testing datasets (Usually 80/20 split):\n",
    "\n",
    "train_data = datasets.MNIST(root='data', train= True,\n",
    "                            download= True, transform= transform)\n",
    "test_data = datasets.MNIST(root= 'data', train= False,\n",
    "                           download=True, transform= transform)\n",
    "\n",
    "#Printing the train and test data gives:\n",
    "print(train_data)\n",
    "print(test_data)"
   ]
  },
  {
   "cell_type": "code",
   "execution_count": 2,
   "metadata": {},
   "outputs": [
    {
     "name": "stdout",
     "output_type": "stream",
     "text": [
      "torch.Size([60000, 28, 28])\n"
     ]
    }
   ],
   "source": [
    "# So we have 60k training datapoints and 10k which will be used for evluation: looking at the size of our training data we can see that:\n",
    "print(train_data.data.size())\n",
    "# Meaning that the dataset is comprised of 60k 28x28 images (datapoints)"
   ]
  },
  {
   "cell_type": "code",
   "execution_count": 7,
   "metadata": {},
   "outputs": [
    {
     "name": "stdout",
     "output_type": "stream",
     "text": [
      "The number of indices for training data = 60000\n",
      "The len of the indices is 60000\n"
     ]
    }
   ],
   "source": [
    "# Now we need to split the data into 80/20 split for each subcategory: \n",
    "# We create a list of indices of the training data:\n",
    "num_train = len(train_data)\n",
    "print(\"The number of indices for training data =\", num_train)\n",
    "indices = list(range(num_train))\n",
    "print(\"The len of the indices is\", len(indices))"
   ]
  },
  {
   "cell_type": "code",
   "execution_count": 8,
   "metadata": {},
   "outputs": [
    {
     "name": "stdout",
     "output_type": "stream",
     "text": [
      "Number of training indices =  48000\n",
      "Number of valid indices = 12000\n"
     ]
    }
   ],
   "source": [
    "# Then we randomly shuffle the indices:\n",
    "np.random.shuffle(indices)\n",
    "\n",
    "# Before slicing them in an 80/20 split:\n",
    "valid_size = 0.2\n",
    "split = int(np.floor(valid_size*num_train))\n",
    "train_idx = indices[split:] # Slicing the last 80% for training\n",
    "valid_idx = indices[:split] # Slicing the first 20% for validation data\n",
    "\n",
    "print(\"Number of training indices = \", len(train_idx))\n",
    "print(\"Number of valid indices =\", len(valid_idx))"
   ]
  },
  {
   "cell_type": "code",
   "execution_count": 3,
   "metadata": {},
   "outputs": [
    {
     "data": {
      "image/png": "[encoded data removed]",
      "text/plain": [
       "<Figure size 640x480 with 1 Axes>"
      ]
     },
     "metadata": {},
     "output_type": "display_data"
    }
   ],
   "source": [
    "#We can check what one of the datapoints looks like by using the plt function:\n",
    "plt.imshow(train_data.data[0], cmap= 'gray') #Plotting the first element of the dataset\n",
    "plt.title(train_data.targets[0]) # Adding the label as the title\n",
    "plt.show()"
   ]
  },
  {
   "cell_type": "code",
   "execution_count": 4,
   "metadata": {},
   "outputs": [],
   "source": [
    "# Before we load our data into the CNN we need to set up the CNN first:\n",
    "\n",
    "# Our nerual netowrk will inherit from the nn.module from torch:\n",
    "\n",
    "class MNISTmodel1(nn.Module):\n",
    "    # Now we need to define what our neural network looks like (Arhcitecture):\n",
    "    def __init__(self):\n",
    "        super(MNISTmodel1, self).__init__() # Initialising the module\n",
    "    # We know that our input comes in as a 1x28x28 array, so the output(Convolutional layer) should also have a shape of 28x28 so that info is not lost:\n",
    "    # The formula for the shape of the Convolutional later is given by:\n",
    "    #Shape of a Convolutional Layer = (W - K + 2P)\n",
    "    #                                  ------------ + 1\n",
    "    #                                       S\n",
    "    # where, \n",
    "    #       W = Width/Height of previous layer = 28\n",
    "    #       K = Filter Size = 3 , kernal size = 3x3\n",
    "    #       P = Padding = 0, how many pixels are we gonna around our input when scanning with the kernal\n",
    "    #       S = Stride = 1(default), the step, ie we are scanning one pixel at a time\n",
    "    #\n",
    "    # Therefore, \n",
    "    #           if padding = 0\n",
    "    #           Output Shape = ((28 - 3 + 2*0)/1)+1 = 26 \n",
    "    # We want the dimensions to stay the same so that there is no \n",
    "    # loss of information when performing the convolution. \n",
    "    # Hence, \n",
    "    #       if padding = 1\n",
    "    #       Output Shape = ((28 - 3 + 2*1)/1)+1 = 28\n",
    "\n",
    "    # So we define our first convolutional layer as:\n",
    "        self.conv1 = nn.Conv2d(in_channels=1, out_channels=8, kernel_size=3, stride=1, padding=1)\n",
    "    # Second layer, takes the input from the first layer and outputs 16x28x28 (Not sure how # of out channels is determined)\n",
    "        self.conv2 = nn.Conv2d(in_channels=8, out_channels=16, kernel_size=3, stride=1, padding=1)\n",
    "\n",
    "    # Now we can flatten the output from our Convolution layers and input them into our NN:\n",
    "    # The first layer of our neural network would have to be a 1-dimnesional array so it should see : 16x28x28 = 12544 inputs, and thus 12544 nodes:\n",
    "        self.linear1 = nn.Linear(in_features=12544, out_features=256)\n",
    "    # The second layer would have 256 neurons since it takes 256 input weights from the first layer:\n",
    "        self.linear2 = nn.Linear(in_features=256, out_features=64)\n",
    "    # For this NN we are only having 3 layers so the last linear layer would be our output layer and thus should only contain 10 neurons since we are\n",
    "    # classifying 10 digits:\n",
    "        self.linear3 = nn.Linear(in_features=64, out_features=10)\n",
    "\n",
    "    # For neural netowrks there is something called the Dropout ( Do some research boi), basically it ensures that during forward/backward propagation,\n",
    "    # there is a probability p, of the neurons being \"dropped\" in every interation. IDK why this is done btw, need to learn something.\n",
    "        self.dropout = nn.Dropout(p=0.25) #25% chance of neurons being dropped at each iteration.\n",
    "\n",
    "#Now we have to define the forward behaviour, ie the what kind of activation functions are used ( sigmoid, Relu etc):\n",
    "\n",
    "    def forward(self, image_batch):\n",
    "        image_batch = F.relu(input=self.conv1(image_batch)) # Passing the image batches through first convolutoinal layer\n",
    "        image_batch = F.relu(input=self.conv2(image_batch)) # Passing it through the second \n",
    "\n",
    "        # Before we can pass the output of the second layer to our linear layers we need to flatten it into 1-d, this can be done using torch methods:\n",
    "        flat_image_batch = image_batch.view(image_batch.shape[0], -1) # Flattening\n",
    "        flat_image_batch = F.relu(input=self.linear1(flat_image_batch)) #Passing it though the first linear layer\n",
    "\n",
    "        # Passing it through the second linear layer , and adding the dropout function:\n",
    "        flat_image_batch = self.dropout(F.relu(input= self.linear2(flat_image_batch)))\n",
    "        flat_image_batch = F.relu(input=self.linear3(flat_image_batch)) # Passing through the last linear layer before getting the output\n",
    "\n",
    "        return flat_image_batch\n",
    "\n",
    "\n",
    "    "
   ]
  },
  {
   "cell_type": "code",
   "execution_count": 5,
   "metadata": {},
   "outputs": [
    {
     "name": "stdout",
     "output_type": "stream",
     "text": [
      "The model is running on cuda\n",
      "----------------------------------------------------------------\n",
      "        Layer (type)               Output Shape         Param #\n",
      "================================================================\n",
      "            Conv2d-1            [20, 8, 28, 28]              80\n",
      "            Conv2d-2           [20, 16, 28, 28]           1,168\n",
      "            Linear-3                  [20, 256]       3,211,520\n",
      "            Linear-4                   [20, 64]          16,448\n",
      "           Dropout-5                   [20, 64]               0\n",
      "            Linear-6                   [20, 10]             650\n",
      "================================================================\n",
      "Total params: 3,229,866\n",
      "Trainable params: 3,229,866\n",
      "Non-trainable params: 0\n",
      "----------------------------------------------------------------\n",
      "Input size (MB): 0.06\n",
      "Forward/backward pass size (MB): 2.93\n",
      "Params size (MB): 12.32\n",
      "Estimated Total Size (MB): 15.31\n",
      "----------------------------------------------------------------\n"
     ]
    }
   ],
   "source": [
    "# Ok now that the CNN is setup already we can use torchsummary to look at what we are actually doing:\n",
    "from torchsummary import summary\n",
    "\n",
    "# Then we have to choose whether we want to run it on the GPU ( with CUDA ) or on the CPU:\n",
    "device = torch.device('cuda' if torch.cuda.is_available() else 'cpu')\n",
    "print(\"The model is running on\",device)\n",
    "\n",
    "# Now we initalize the model:\n",
    "mnist1 = MNISTmodel1().to(device)\n",
    "summary(model=mnist1, input_size=(1,28,28), batch_size=20) # We are sending in 20 datapoints at a time"
   ]
  },
  {
   "cell_type": "code",
   "execution_count": 20,
   "metadata": {},
   "outputs": [],
   "source": [
    "# Ok now that we've done the bifucation of the data, set up the training model, we can load the training data into the model through something called:\n",
    "# DataLoaders (a class in pytorch)\n",
    "from torch.utils.data.dataloader import DataLoader\n",
    "\n",
    "# First we have to sample our data to obtain training and validation batches(batch number can be defined):\n",
    "train_sampler = SubsetRandomSampler(train_idx)\n",
    "valid_sampler = SubsetRandomSampler(valid_idx)\n",
    "\n",
    "# Then we load them using the built-in dataloader class:\n",
    "num_workers = 0 # Num_workers tells the data loader instance how many sub-processes to use for data loading. If the num_worker is zero (default) the GPU has to weight for CPU to load data. Theoretically, greater the num_workers, more efficiently the CPU load data and less the GPU has to wait\n",
    "batch_size = 20 # How many datapoints to load per batch.\n",
    "\n",
    "# Now we can define and load our training and validation sets (Note that the dataset used for both is train_data, since that is where we are loading from.)\n",
    "train_loader = DataLoader(dataset= train_data, batch_size=20, sampler=train_sampler, num_workers=num_workers) \n",
    "\n",
    "valid_loader = DataLoader(dataset=train_data, batch_size=20, sampler=valid_sampler, num_workers=num_workers)\n",
    "\n",
    "# Now recall that we still have 10k datapoints from before which we will use for the test set: \n",
    "test_loader = DataLoader(dataset= test_data, batch_size=batch_size, num_workers=num_workers) # We don't need to sample here since we are testing the data\n",
    "\n",
    "\n"
   ]
  },
  {
   "cell_type": "code",
   "execution_count": 21,
   "metadata": {},
   "outputs": [
    {
     "name": "stdout",
     "output_type": "stream",
     "text": [
      "20 20\n",
      "Correct Labels:  tensor([5, 7, 0, 2, 3, 3, 7, 4, 6, 3, 6, 6, 0, 6, 1, 7, 3, 1, 8, 1])\n",
      "Shape of our images tensor = (20, 1, 28, 28)\n",
      "Batch Size = 20 Image Height/Width = 28\n",
      "\n",
      "Squeezing the images tensor = (20, 28, 28)\n",
      "Un-squeezing the images tensor (axis=3) = (20, 1, 28, 1, 28)\n"
     ]
    }
   ],
   "source": [
    "# We can check that the dataloaders are working properly by plotting them out:\n",
    "\n",
    "dataiterator = iter(train_loader) # Get the whole batch \n",
    "images, labels = next(dataiterator) # Extract the images and their labels \n",
    "print(len(images), len(labels)) # Should be equal to the batch size, 20\n",
    "print('Correct Labels: ', labels)\n",
    "images = images.numpy() # Convert the images to numpy array for matplotlib\n",
    "print('Shape of our images tensor =', images.shape)\n",
    "print('Batch Size =', images.shape[0], 'Image Height/Width =', \\\n",
    "                                                        images.shape[2])\n",
    "\n",
    "print()\n",
    "print('Squeezing the images tensor =', np.squeeze(images).shape)\n",
    "print('Un-squeezing the images tensor (axis=3) =', \\\n",
    "                                        np.expand_dims(images, axis=3).shape)"
   ]
  },
  {
   "cell_type": "code",
   "execution_count": 22,
   "metadata": {},
   "outputs": [
    {
     "data": {
      "image/png": "[encoded data removed]",
      "text/plain": [
       "<Figure size 2500x400 with 20 Axes>"
      ]
     },
     "metadata": {},
     "output_type": "display_data"
    }
   ],
   "source": [
    "# Plotting our batch :\n",
    "\n",
    "# Plot the whole batch \n",
    "fig = plt.figure(figsize=(25, 4))\n",
    "# Loop over all the images in the batch(20)\n",
    "for idx in np.arange(20):\n",
    "    # Add a subplot for the image \n",
    "    ax = fig.add_subplot(2, 10, idx+1, xticks=[], yticks=[])\n",
    "    # Populate the subplot with the image \n",
    "    ax.imshow(np.squeeze(images[idx]), cmap='gray')\n",
    "    # print out the correct label for each image .item() gets the value contained in a Tensor\n",
    "    ax.set_title(str(labels[idx].item()))\n"
   ]
  },
  {
   "cell_type": "code",
   "execution_count": 23,
   "metadata": {},
   "outputs": [],
   "source": [
    "# Now it's actually time to train our model: This is done using an additional pytorch lib called poutyne.\n",
    "\n",
    "from poutyne.framework import Model # Core datastucture for poutyne\n",
    "from torch import optim # importing our optimizers\n",
    "from poutyne.framework import ModelCheckpoint # Saves trained model during training?\n",
    "from poutyne.framework import EarlyStopping # Something used to prevent overfitting of the model, a stop for the optimizer I guess?\n",
    "\n",
    "# Now we use poutyne to define a training function for our model:\n",
    "learning_rate = 0.1\n",
    "epochs = 10 # Number of times the model will go through the training dataset\n",
    "def poutyne_train(model_name, pytorch_model):\n",
    "    callbacks = [\n",
    "        # Saving the latest weights\n",
    "        ModelCheckpoint(model_name + \"_last_epoch.ckpt\", temporary_filename= \"last_epoch.ckpt.tmp\"),\n",
    "\n",
    "        EarlyStopping(monitor=\"val_acc\", patience=0, verbose= True, mode= 'max'),\n",
    "\n",
    "        \n",
    "    ]\n",
    "\n",
    "    #Choosing the optimizer functions and loss functions:\n",
    "    optimizer = optim.SGD(pytorch_model.parameters(), lr= learning_rate)\n",
    "    loss_function = nn.CrossEntropyLoss()\n",
    "\n",
    "    # Creating the Poutyne training model:\n",
    "    model = Model(pytorch_model, optimizer=optimizer, loss_function=loss_function, batch_metrics=[\"Accuracy\"])\n",
    "    \n",
    "    # Sending the model to the training devide, GPU/CPU\n",
    "    model.to(device)\n",
    "\n",
    "    # Training the model:\n",
    "    model.fit_generator(train_loader, valid_loader, epochs=epochs, callbacks=callbacks) # Getting the data from our loaders that we defined earlier\n",
    "\n",
    "    # Finally testing the trained model:\n",
    "    test_loss, test_acc = model.evaluate_generator(test_loader) # Testing the model using our test data from the test loader\n",
    "    print(f\"Test:\\n\\tLoss: {test_loss: .3f}\\n\\tAccuracy: {test_acc: .3f}\")\n",
    "\n",
    "    return None\n",
    "\n",
    "\n",
    "\n",
    "\n",
    "\n",
    "\n"
   ]
  },
  {
   "cell_type": "code",
   "execution_count": 24,
   "metadata": {},
   "outputs": [
    {
     "name": "stdout",
     "output_type": "stream",
     "text": [
      "\u001b[35mEpoch: \u001b[36m 1/10 \u001b[35mTrain steps: \u001b[36m2400 \u001b[35mVal steps: \u001b[36m600 \u001b[32m41.54s \u001b[35mloss:\u001b[94m 0.315912\u001b[35m acc:\u001b[94m 90.350000\u001b[35m val_loss:\u001b[94m 0.110647\u001b[35m val_acc:\u001b[94m 96.741667\u001b[0m\n",
      "\u001b[35mEpoch: \u001b[36m 2/10 \u001b[35mTrain steps: \u001b[36m2400 \u001b[35mVal steps: \u001b[36m600 \u001b[32m41.38s \u001b[35mloss:\u001b[94m 0.082882\u001b[35m acc:\u001b[94m 97.695833\u001b[35m val_loss:\u001b[94m 0.079682\u001b[35m val_acc:\u001b[94m 97.825000\u001b[0m\n",
      "\u001b[35mEpoch: \u001b[36m 3/10 \u001b[35mTrain steps: \u001b[36m2400 \u001b[35mVal steps: \u001b[36m600 \u001b[32m43.57s \u001b[35mloss:\u001b[94m 0.050392\u001b[35m acc:\u001b[94m 98.514583\u001b[35m val_loss:\u001b[94m 0.069065\u001b[35m val_acc:\u001b[94m 98.033333\u001b[0m\n",
      "\u001b[35mEpoch: \u001b[36m 4/10 \u001b[35mTrain steps: \u001b[36m2400 \u001b[35mVal steps: \u001b[36m600 \u001b[32m42.00s \u001b[35mloss:\u001b[94m 0.035145\u001b[35m acc:\u001b[94m 98.937500\u001b[35m val_loss:\u001b[94m 0.061850\u001b[35m val_acc:\u001b[94m 98.300000\u001b[0m\n",
      "\u001b[35mEpoch: \u001b[36m 5/10 \u001b[35mTrain steps: \u001b[36m2400 \u001b[35mVal steps: \u001b[36m600 \u001b[32m42.61s \u001b[35mloss:\u001b[94m 0.025442\u001b[35m acc:\u001b[94m 99.250000\u001b[35m val_loss:\u001b[94m 0.058922\u001b[35m val_acc:\u001b[94m 98.408333\u001b[0m\n",
      "\u001b[35mEpoch: \u001b[36m 6/10 \u001b[35mTrain steps: \u001b[36m2400 \u001b[35mVal steps: \u001b[36m600 \u001b[32m42.29s \u001b[35mloss:\u001b[94m 0.019255\u001b[35m acc:\u001b[94m 99.404167\u001b[35m val_loss:\u001b[94m 0.065939\u001b[35m val_acc:\u001b[94m 98.491667\u001b[0m\n",
      "\u001b[35mEpoch: \u001b[36m 7/10 \u001b[35mTrain steps: \u001b[36m2400 \u001b[35mVal steps: \u001b[36m600 \u001b[32m42.40s \u001b[35mloss:\u001b[94m 0.013425\u001b[35m acc:\u001b[94m 99.575000\u001b[35m val_loss:\u001b[94m 0.067809\u001b[35m val_acc:\u001b[94m 98.500000\u001b[0m\n",
      "\u001b[35mEpoch: \u001b[36m 8/10 \u001b[35mTrain steps: \u001b[36m2400 \u001b[35mVal steps: \u001b[36m600 \u001b[32m42.21s \u001b[35mloss:\u001b[94m 0.011693\u001b[35m acc:\u001b[94m 99.639583\u001b[35m val_loss:\u001b[94m 0.064191\u001b[35m val_acc:\u001b[94m 98.716667\u001b[0m\n",
      "\u001b[35mEpoch: \u001b[36m 9/10 \u001b[35mTrain steps: \u001b[36m2400 \u001b[35mVal steps: \u001b[36m600 \u001b[32m45.80s \u001b[35mloss:\u001b[94m 0.007155\u001b[35m acc:\u001b[94m 99.785417\u001b[35m val_loss:\u001b[94m 0.072092\u001b[35m val_acc:\u001b[94m 98.600000\u001b[0m\n",
      "Epoch 9: early stopping\n",
      "\u001b[35mTest steps: \u001b[36m500 \u001b[32m5.50s \u001b[35mtest_loss:\u001b[94m 0.071579\u001b[35m test_acc:\u001b[94m 98.490000\u001b[0m                                                  \n",
      "Test:\n",
      "\tLoss:  0.072\n",
      "\tAccuracy:  98.490\n"
     ]
    }
   ],
   "source": [
    "# Now we can finally train and test our model! Just call the function that we defined above and specify which model we are using:\n",
    "\n",
    "poutyne_train(model_name='mnist1', pytorch_model=mnist1)"
   ]
  }
 ],
 "metadata": {
  "kernelspec": {
   "display_name": "Python 3",
   "language": "python",
   "name": "python3"
  },
  "language_info": {
   "codemirror_mode": {
    "name": "ipython",
    "version": 3
   },
   "file_extension": ".py",
   "mimetype": "text/x-python",
   "name": "python",
   "nbconvert_exporter": "python",
   "pygments_lexer": "ipython3",
   "version": "3.9.2"
  },
  "orig_nbformat": 4
 },
 "nbformat": 4,
 "nbformat_minor": 2
}
